{
 "cells": [
  {
   "cell_type": "markdown",
   "metadata": {
    "id": "MthHskaoEZm0"
   },
   "source": [
    "# Final BTC Strategy - Inter IIT Tech Meet 2024 submission from IITR\n",
    "\n",
    "Usage guide:\n",
    "\n",
    "Step 1: If you need any indicator not already included in the \"Defining functions for technical indicators section then add a function which calculates that accordingly\n",
    "\n",
    "Step 2: Modify the Preprocessing function to include the indicators that you need\n",
    "\n",
    "Step 3: In the main strategy section, modify the Strategy function according to your strategy. You have to add a column named \"Position\" to the dataframe which is 1 if you're in a long trade and -1 if you're in a short trade. Signal generation is taken care of in post processing\n",
    "\n",
    "Step 4: In main run section, import data from a csv or yfinance using fetch_data(ticker) for yfin and create_dataset(csv_path) for importing from a CSV. Then in preprocess function call set the start and end date for backtest.\n",
    "\n",
    "**NOTE** : to use leverage while backtesting, add `,leverage=2` or whatever leverage you want in SDK backtesting function calls"
   ]
  },
  {
   "cell_type": "markdown",
   "metadata": {
    "id": "AReddUWXEZm2",
    "jp-MarkdownHeadingCollapsed": true
   },
   "source": [
    "# Importing modules"
   ]
  },
  {
   "cell_type": "code",
   "execution_count": 1,
   "metadata": {
    "executionInfo": {
     "elapsed": 667,
     "status": "ok",
     "timestamp": 1732819375271,
     "user": {
      "displayName": "Akshat Trehan",
      "userId": "16902558747772559534"
     },
     "user_tz": -330
    },
    "id": "AgdLpcx_EZm2"
   },
   "outputs": [],
   "source": [
    "import pandas as pd\n",
    "import matplotlib.pyplot as plt\n",
    "import numpy as np\n",
    "import yfinance as yf\n",
    "import warnings\n",
    "from scipy.stats import chisquare\n",
    "\n",
    "\n",
    "warnings.simplefilter(action='ignore')"
   ]
  },
  {
   "cell_type": "markdown",
   "metadata": {
    "id": "T_Va6hLOEZm3",
    "jp-MarkdownHeadingCollapsed": true
   },
   "source": [
    "# Importing df"
   ]
  },
  {
   "cell_type": "markdown",
   "metadata": {
    "id": "gj58e8nOEZm3"
   },
   "source": [
    "You can use **create_dfset(path)** to import df from a csv file or use **fetch_df(ticker, interval)** to fetch df from yfinance for given ticker with given interval candles"
   ]
  },
  {
   "cell_type": "markdown",
   "metadata": {
    "id": "Fmrg7ffjEZm3"
   },
   "source": [
    "## Using yfinance"
   ]
  },
  {
   "cell_type": "code",
   "execution_count": 2,
   "metadata": {
    "executionInfo": {
     "elapsed": 21,
     "status": "ok",
     "timestamp": 1732819375772,
     "user": {
      "displayName": "Akshat Trehan",
      "userId": "16902558747772559534"
     },
     "user_tz": -330
    },
    "id": "fHbwcn20EZm3"
   },
   "outputs": [],
   "source": [
    "def fetch_df(symbol, interval = \"1d\"):\n",
    "  symbol = symbol\n",
    "  # Specify the intraday start and end times\n",
    "  intraday_start = '2019-09-08'\n",
    "  intraday_end = \"2024-01-01\"\n",
    "\n",
    "  #Download intraday df\n",
    "  df = yf.download(symbol, start=intraday_start, end=intraday_end, interval=interval)\n",
    "  df.rename(columns = {'Open':'open'}, inplace = True)\n",
    "  df.rename(columns = {'Close':'close'}, inplace = True)\n",
    "  df.rename(columns = {'Low':'low'}, inplace = True)\n",
    "  df.rename(columns = {'High':'high'}, inplace = True)\n",
    "  df.rename(columns = {'Volume':'volume'}, inplace = True)\n",
    "  df.drop('Adj Close',axis=1, inplace=True)\n",
    "\n",
    "  df.reset_index(inplace=True)\n",
    "  df.rename(columns = {'Date':'datetime'}, inplace = True)\n",
    "\n",
    "\n",
    "\n",
    "  return df\n",
    "\n",
    "\n",
    "\n",
    "# print(x.iloc[2, x.columns.get_loc('open')])  Syntax to access ith entry in a column\n",
    "# print(x.loc['2021-01-04', 'open'])           Syntax to access entry on some date for some column"
   ]
  },
  {
   "cell_type": "markdown",
   "metadata": {
    "id": "yPVwZWBBEZm3"
   },
   "source": [
    "## Using CSV"
   ]
  },
  {
   "cell_type": "code",
   "execution_count": 3,
   "metadata": {
    "executionInfo": {
     "elapsed": 17,
     "status": "ok",
     "timestamp": 1732819375772,
     "user": {
      "displayName": "Akshat Trehan",
      "userId": "16902558747772559534"
     },
     "user_tz": -330
    },
    "id": "Y5WvJgQ7EZm3"
   },
   "outputs": [],
   "source": [
    "def create_dfset(path):\n",
    "  df = pd.read_csv(path)\n",
    "  return df"
   ]
  },
  {
   "cell_type": "markdown",
   "metadata": {
    "id": "s-J3ABI8EZm4"
   },
   "source": [
    "# Defining functions for technical indicators"
   ]
  },
  {
   "cell_type": "markdown",
   "metadata": {
    "id": "JplrDKLyEZm4"
   },
   "source": [
    "Included technical indicators in this file: <br>\n",
    "SMA<br>\n",
    "EMA<br>\n",
    "HeikenAshi<br>\n",
    "ATR<br>\n",
    "ADX<br>\n",
    "Supertrend<br>\n",
    "Benfords Law <br>\n",
    "<br>\n",
    "Refer to the comment above the definition of the function to check the format you get the indicator values in"
   ]
  },
  {
   "cell_type": "markdown",
   "metadata": {
    "id": "AC1NqZVXBROK",
    "jp-MarkdownHeadingCollapsed": true
   },
   "source": [
    "## ATR\n"
   ]
  },
  {
   "cell_type": "code",
   "execution_count": 4,
   "metadata": {
    "executionInfo": {
     "elapsed": 16,
     "status": "ok",
     "timestamp": 1732819375772,
     "user": {
      "displayName": "Akshat Trehan",
      "userId": "16902558747772559534"
     },
     "user_tz": -330
    },
    "id": "BqyajAOHBROK"
   },
   "outputs": [],
   "source": [
    "# calculate ATR and add a column with name \"ATR\"\n",
    "def ATR(df, n=14):\n",
    "    df['TR'] = np.maximum(df['high'] - df['low'],\n",
    "                          np.maximum(abs(df['high'] - df['close'].shift(1)),\n",
    "                                     abs(df['low'] - df['close'].shift(1)))\n",
    "                         )\n",
    "    df[f'ATR'] = df['TR'].ewm(span=n, min_periods=n).mean()\n",
    "    df.drop('TR', axis=1, inplace=True)"
   ]
  },
  {
   "cell_type": "markdown",
   "metadata": {
    "id": "taYuvCeOBROL",
    "jp-MarkdownHeadingCollapsed": true
   },
   "source": [
    "## ADX\n"
   ]
  },
  {
   "cell_type": "code",
   "execution_count": 5,
   "metadata": {
    "executionInfo": {
     "elapsed": 16,
     "status": "ok",
     "timestamp": 1732819375773,
     "user": {
      "displayName": "Akshat Trehan",
      "userId": "16902558747772559534"
     },
     "user_tz": -330
    },
    "id": "oV-jL_n8BROL"
   },
   "outputs": [],
   "source": [
    "#calculate ADX\n",
    "def ADX(df,lookback=14):\n",
    "    high = df['high']\n",
    "    low = df['low']\n",
    "    close = df['close']\n",
    "    plus_dm = high.diff()\n",
    "    minus_dm = low.diff()\n",
    "    plus_dm[plus_dm < 0] = 0\n",
    "    minus_dm[minus_dm > 0] = 0\n",
    "\n",
    "    tr1 = pd.DataFrame(high - low)\n",
    "    tr2 = pd.DataFrame(abs(high - close.shift(1)))\n",
    "    tr3 = pd.DataFrame(abs(low - close.shift(1)))\n",
    "    frames = [tr1, tr2, tr3]\n",
    "    tr = pd.concat(frames, axis = 1, join = 'inner').max(axis = 1)\n",
    "    atr = tr.rolling(lookback).mean()\n",
    "\n",
    "    plus_di = 100 * (plus_dm.ewm(alpha = 1/lookback).mean() / atr)\n",
    "    minus_di = abs(100 * (minus_dm.ewm(alpha = 1/lookback).mean() / atr))\n",
    "    dx = (abs(plus_di - minus_di) / abs(plus_di + minus_di)) * 100\n",
    "    adx = ((dx.shift(1) * (lookback - 1)) + dx) / lookback\n",
    "    adx_smooth = adx.ewm(alpha = 1/lookback).mean()\n",
    "    df[f\"ADX_{lookback}\"] = adx_smooth"
   ]
  },
  {
   "cell_type": "code",
   "execution_count": null,
   "metadata": {
    "executionInfo": {
     "elapsed": 435,
     "status": "ok",
     "timestamp": 1732820598729,
     "user": {
      "displayName": "Akshat Trehan",
      "userId": "16902558747772559534"
     },
     "user_tz": -330
    },
    "id": "l9kokcisErBd"
   },
   "outputs": [],
   "source": [
    "import pandas as pd\n",
    "import numpy as np\n",
    "\n",
    "def calculate_dynamic_adxr(df, base_lookback=16, atr_period=5):\n",
    "    df = df.copy()\n",
    "\n",
    "    # Step 1: Calculate ATR mean\n",
    "    # Rolling mean of ATR to determine the baseline volatility\n",
    "    weights = np.arange(1, atr_period + 1)\n",
    "    df['ATR_mean'] = df['ATR'].rolling(window=atr_period, min_periods=1).mean()\n",
    "    # df['ATR_mean'] = df['ATR'].ewm(span=atr_period, adjust=False).mean()\n",
    "    # df['ATR_mean'] = df['ATR'].rolling(window=atr_period, min_periods=1).apply(lambda x: np.dot(x, weights) / weights.sum(), raw=True)\n",
    "    # Step 2: Compute dynamic lookback\n",
    "    # Avoid division by zero by replacing zero ATR_mean with a small number (e.g., 1e-6)\n",
    "    df['ATR_mean_safe'] = df['ATR_mean'].replace(0, 1e-6)\n",
    "\n",
    "    # Compute the dynamic lookback\n",
    "    df['Dynamic_Lookback'] = (base_lookback * (1 + df['ATR'] / df['ATR_mean_safe'])).round().astype(float)\n",
    "\n",
    "    # Handle any remaining infinite or NaN values by setting them to base_lookback\n",
    "    df['Dynamic_Lookback'].replace([np.inf, -np.inf], base_lookback, inplace=True)\n",
    "    df['Dynamic_Lookback'].fillna(base_lookback, inplace=True)\n",
    "\n",
    "    # Convert Dynamic_Lookback to integer safely\n",
    "    df['Dynamic_Lookback'] = df['Dynamic_Lookback'].astype(int)\n",
    "\n",
    "    # Ensure lookback is at least 1 to avoid invalid shifts\n",
    "    df['Dynamic_Lookback'] = df['Dynamic_Lookback'].clip(lower=1)\n",
    "\n",
    "    # Step 3: Calculate ADXR_dynamic\n",
    "    # Initialize ADXR_dynamic with NaN\n",
    "    df['ADXR_dynamic'] = np.nan\n",
    "\n",
    "    # Ensure ADX is present\n",
    "    if 'ADX_14' not in df.columns:\n",
    "        raise ValueError(\"The DataFrame must contain an 'ADX' column.\")\n",
    "\n",
    "    # Iterate over the DataFrame to compute ADXR_dynamic\n",
    "    for idx in df.index:\n",
    "        lookback = df.at[idx, 'Dynamic_Lookback']\n",
    "\n",
    "        # Calculate the shifted index\n",
    "        # Assuming the DataFrame index is integer-based and sequential\n",
    "        shifted_idx = idx - lookback\n",
    "\n",
    "        if shifted_idx >= df.index.min():\n",
    "            try:\n",
    "                current_adx = df.at[idx, 'ADX_14']\n",
    "                shifted_adx = df.at[shifted_idx, 'ADX_14']\n",
    "                if pd.notna(current_adx) and pd.notna(shifted_adx):\n",
    "                    df.at[idx, 'ADXR_dynamic'] = (current_adx + shifted_adx) / 2\n",
    "                else:\n",
    "                    df.at[idx, 'ADXR_dynamic'] = np.nan\n",
    "            except KeyError:\n",
    "                # In case shifted_idx is out of bounds\n",
    "                df.at[idx, 'ADXR_dynamic'] = np.nan\n",
    "        else:\n",
    "            # Insufficient data for dynamic ADXR calculation\n",
    "            df.at[idx, 'ADXR_dynamic'] = np.nan\n",
    "\n",
    "    # Optional: Drop intermediate columns if no longer needed\n",
    "    # df.drop(columns=['ATR_mean', 'ATR_mean_safe', 'Dynamic_Lookback'], inplace=True)\n",
    "\n",
    "    return df\n"
   ]
  },
  {
   "cell_type": "markdown",
   "metadata": {
    "id": "ZJV7gRwLEZm4",
    "jp-MarkdownHeadingCollapsed": true
   },
   "source": [
    "## Heikenashi"
   ]
  },
  {
   "cell_type": "code",
   "execution_count": 7,
   "metadata": {
    "executionInfo": {
     "elapsed": 399,
     "status": "ok",
     "timestamp": 1732820209138,
     "user": {
      "displayName": "Akshat Trehan",
      "userId": "16902558747772559534"
     },
     "user_tz": -330
    },
    "id": "6RjGBHrgEZm4"
   },
   "outputs": [],
   "source": [
    "# calculate HA candles and add columns with name \"HA_Close\" \"HA_Open\" \"HA_High\" \"HA_Low\"\n",
    "def HA(df):\n",
    "    df['HA_Close'] = (df['open'] + df['high'] + df['low'] + df['close']) / 4\n",
    "    df['HA_Open'] = (df['open'].shift(1) + df['close'].shift(1)) / 2\n",
    "    df['HA_High'] = df[['high', 'low', 'HA_Open', 'HA_Close']].max(axis=1)\n",
    "    df['HA_Low'] = df[['high', 'low', 'HA_Open', 'HA_Close']].min(axis=1)"
   ]
  },
  {
   "cell_type": "markdown",
   "metadata": {
    "id": "KMkIz0ldBROM",
    "jp-MarkdownHeadingCollapsed": true
   },
   "source": [
    "## Moving averages"
   ]
  },
  {
   "cell_type": "code",
   "execution_count": 8,
   "metadata": {
    "executionInfo": {
     "elapsed": 594,
     "status": "ok",
     "timestamp": 1732820211627,
     "user": {
      "displayName": "Akshat Trehan",
      "userId": "16902558747772559534"
     },
     "user_tz": -330
    },
    "id": "rORZtzGTBROM"
   },
   "outputs": [],
   "source": [
    "# calculate EMA and add a column with name \"EMA_x\" where x is the lookback period\n",
    "def EMA(df, n):\n",
    "    df['EMA'+str(n)] = df['close'].ewm(span=n, min_periods=n).mean()\n",
    "\n",
    "# calculate SMA and add a column with name \"SMA_x\" where x is the lookback period\n",
    "def SMA(df, n):\n",
    "    df['SMA'+str(n)] = df['close'].rolling(window=n).mean()"
   ]
  },
  {
   "cell_type": "markdown",
   "metadata": {
    "id": "PxteGl77EZm5",
    "jp-MarkdownHeadingCollapsed": true
   },
   "source": [
    "## Benfords Law"
   ]
  },
  {
   "cell_type": "code",
   "execution_count": null,
   "metadata": {
    "executionInfo": {
     "elapsed": 2,
     "status": "ok",
     "timestamp": 1732820213727,
     "user": {
      "displayName": "Akshat Trehan",
      "userId": "16902558747772559534"
     },
     "user_tz": -330
    },
    "id": "Ge29AUzvXUmz"
   },
   "outputs": [],
   "source": [
    "def leading_digit(x):\n",
    "        if pd.isna(x):  \n",
    "            return 0\n",
    "        return int(str(x).lstrip('-0.')[0]) if x != 0 else 0\n",
    "\n",
    "def benford(df, n=20):\n",
    "    df['percentage_change'] = df['close'].pct_change() * 100\n",
    "    df['leading_digit'] = df['percentage_change'].apply(leading_digit)\n",
    "    benford_dist = np.log10(1 + 1 / np.arange(1, 10))\n",
    "    df['deviation_flag'] = 0\n",
    "\n",
    "    for i in range(n+1, len(df)):\n",
    "        window = df.iloc[i-n:i]\n",
    "\n",
    "        # Calculate and normalize frequencies\n",
    "        frequency = window['leading_digit'].value_counts().add(1, fill_value=1).sort_index()\n",
    "        frequency /= frequency.sum()  # Normalize to sum to 1\n",
    "        observed = frequency.reindex(range(1, 10), fill_value=0).values * n\n",
    "\n",
    "        # Scale expected frequencies to match observed sum\n",
    "        expected = benford_dist * observed.sum()\n",
    "\n",
    "        # Chi-squared test\n",
    "        chi2, p_value = chisquare(f_obs=observed, f_exp=expected)\n",
    "        if p_value < 0.05:\n",
    "            df.at[i, 'deviation_flag'] = 1\n",
    "\n",
    "    return df\n"
   ]
  },
  {
   "cell_type": "markdown",
   "metadata": {},
   "source": [
    "## PSAR"
   ]
  },
  {
   "cell_type": "code",
   "execution_count": 10,
   "metadata": {},
   "outputs": [],
   "source": [
    "def calculate_parabolic_sar(df, step=0.02, max_step=0.2):\n",
    "    # Ensure the DataFrame has the necessary columns\n",
    "    if not {'HA_High', 'HA_Low', 'HA_Close'}.issubset(df.columns):\n",
    "        raise ValueError(\"DataFrame must contain 'High', 'Low', and 'Close' columns\")\n",
    "\n",
    "    high = df['HA_High'].values\n",
    "    low = df['HA_Low'].values\n",
    "    close = df['HA_Close'].values\n",
    "    dates = df['datetime'].values\n",
    "    dates = [pd.to_datetime(date) for date in dates]\n",
    "    length = len(df)\n",
    "    \n",
    "    # Initialize arrays\n",
    "    psar = [0] * length\n",
    "    trend = [0] * length  # 1 for uptrend, -1 for downtrend\n",
    "    ep = [0] * length     # Extreme point\n",
    "    af = [step] * length  # Acceleration factor\n",
    "\n",
    "\n",
    "\n",
    "    for i in range(length):\n",
    "        if dates[i].month%2 == 1 and dates[i].day == 1:\n",
    "            psar[i] = close[i]\n",
    "            trend[i] = 0\n",
    "            ep[i] = close[i]\n",
    "            continue\n",
    "        # Determine trend based on prior data\n",
    "        if close[i] > close[i - 1]:\n",
    "            trend[i] = 1    # Uptrend\n",
    "            psar[i] = low[i - 1]\n",
    "            ep[i] = high[i]\n",
    "        else:\n",
    "            trend[i] = -1   # Downtrend\n",
    "            psar[i] = high[i - 1]\n",
    "            ep[i] = low[i]\n",
    "        af[i] = step\n",
    "\n",
    "        # Calculate PSAR\n",
    "        prior_psar = psar[i - 1]\n",
    "        prior_ep = ep[i - 1]\n",
    "        prior_af = af[i - 1]\n",
    "        prior_trend = trend[i - 1]\n",
    "\n",
    "        psar[i] = prior_psar + prior_af * (prior_ep - prior_psar)\n",
    "\n",
    "        # Adjust PSAR to not penetrate extremes\n",
    "        if prior_trend == 1:\n",
    "            psar[i] = min(psar[i], low[i - 1], low[i - 2])\n",
    "        else:\n",
    "            psar[i] = max(psar[i], high[i - 1], high[i - 2])\n",
    "\n",
    "        # Determine trend and adjust EP and AF\n",
    "        if prior_trend == 1:\n",
    "            if low[i] < psar[i]:\n",
    "                # Reversal to downtrend\n",
    "                trend[i] = -1\n",
    "                psar[i] = prior_ep\n",
    "                ep[i] = low[i]\n",
    "                af[i] = step\n",
    "            else:\n",
    "                trend[i] = prior_trend\n",
    "                if high[i] > prior_ep:\n",
    "                    ep[i] = high[i]\n",
    "                    af[i] = min(prior_af + step, max_step)\n",
    "                else:\n",
    "                    ep[i] = prior_ep\n",
    "                    af[i] = prior_af\n",
    "        else:\n",
    "            if high[i] > psar[i]:\n",
    "                # Reversal to uptrend\n",
    "                trend[i] = 1\n",
    "                psar[i] = prior_ep\n",
    "                ep[i] = high[i]\n",
    "                af[i] = step\n",
    "            else:\n",
    "                trend[i] = prior_trend\n",
    "                if low[i] < prior_ep:\n",
    "                    ep[i] = low[i]\n",
    "                    af[i] = min(prior_af + step, max_step)\n",
    "                else:\n",
    "                    ep[i] = prior_ep\n",
    "                    af[i] = prior_af\n",
    "\n",
    "    # Assign the calculated PSAR values to the DataFrame\n",
    "    df['PSAR'] = psar"
   ]
  },
  {
   "cell_type": "markdown",
   "metadata": {
    "id": "8GGZbJP4BRON",
    "jp-MarkdownHeadingCollapsed": true
   },
   "source": [
    "## Some Calculations"
   ]
  },
  {
   "cell_type": "code",
   "execution_count": 11,
   "metadata": {
    "executionInfo": {
     "elapsed": 11,
     "status": "ok",
     "timestamp": 1732819375774,
     "user": {
      "displayName": "Akshat Trehan",
      "userId": "16902558747772559534"
     },
     "user_tz": -330
    },
    "id": "fkCovPSdBRON"
   },
   "outputs": [],
   "source": [
    "import numpy as np\n",
    "import pandas as pd\n",
    "\n",
    "def kama(df, source, n=10, sc_fastest=0.666, sc_slowest=0.0645):\n",
    "    price = df[source].replace(0, np.nan).fillna(method='ffill')  # Handle zeroes and NaNs\n",
    "    # Calculate efficiency ratio (ER)\n",
    "    change = abs(price - price.shift(n))\n",
    "    volatility = abs(price - price.shift(1)).rolling(n).sum()\n",
    "    eff_ratio = (change / volatility).fillna(0)  # Avoid NaN in eff_ratio\n",
    "\n",
    "    # Calculate smoothing constant (SC)\n",
    "    sc = (eff_ratio * (sc_fastest - sc_slowest) + sc_slowest) ** 2\n",
    "    # print(\"smoothing constant\",sc)\n",
    "    kama = pd.Series(index=price.index, dtype=float)\n",
    "    kama[:n] = np.nan  # Fill first `n` values with NaN\n",
    "    kama[n-1] = price[:n].mean()  # Initialize with the mean of the first `n` prices\n",
    "    for i in range(n, len(price)):\n",
    "        kama.iloc[i] = kama.iloc[i-1] + sc.iloc[i] * (price.iloc[i] - kama.iloc[i-1]) if sc.iloc[i] > 0 else kama[i-1]\n",
    "\n",
    "    return pd.Series(kama, index=df.index, name='KAMA')\n"
   ]
  },
  {
   "cell_type": "code",
   "execution_count": 12,
   "metadata": {
    "executionInfo": {
     "elapsed": 11,
     "status": "ok",
     "timestamp": 1732819375774,
     "user": {
      "displayName": "Akshat Trehan",
      "userId": "16902558747772559534"
     },
     "user_tz": -330
    },
    "id": "4tXVCRsVl_tv"
   },
   "outputs": [],
   "source": [
    "def moving_average(df, source, length, ma_type):\n",
    "    if ma_type == \"SMA\":\n",
    "        return df[source].rolling(window=length).mean()\n",
    "    elif ma_type == \"EMA\":\n",
    "        return df[source].ewm(span=length, adjust=False).mean()\n",
    "    elif ma_type == \"SMMA (RMA)\":\n",
    "        return df[source].ewm(alpha=1.0 / length).mean()\n",
    "    elif ma_type == \"WMA\":\n",
    "        weights = np.arange(1, length + 1)\n",
    "        return df[source].rolling(length).apply(lambda x: np.dot(x, weights) / weights.sum(), raw=True)\n",
    "    elif ma_type==\"KAMA\":\n",
    "        df[f'kama_{source}']=kama(df,source,length,0.666,0.0645)\n",
    "\n",
    "        return df[f'kama_{source}']\n",
    "    else:\n",
    "        raise ValueError(\"Invalid moving average type\")"
   ]
  },
  {
   "cell_type": "code",
   "execution_count": 13,
   "metadata": {
    "executionInfo": {
     "elapsed": 10,
     "status": "ok",
     "timestamp": 1732819375774,
     "user": {
      "displayName": "Akshat Trehan",
      "userId": "16902558747772559534"
     },
     "user_tz": -330
    },
    "id": "DjfbWeFul_tv"
   },
   "outputs": [],
   "source": [
    "def rsi_function(df, source_col, length, mode_ma):\n",
    "    \"\"\"Calculate the Relative Strength Index (RSI).\"\"\"\n",
    "\n",
    "    price_change = df[source_col].diff()\n",
    "    df[f'UP_{source_col}'] = price_change.clip(lower=0)  # Positive changes\n",
    "    df[f'DOWN_{source_col}'] = -price_change.clip(upper=0)  # Negative changes\n",
    "\n",
    "\n",
    "    # Calculate upward and downward movements\n",
    "    up = moving_average(df,f'UP_{source_col}', length, mode_ma)  # Positive changes\n",
    "    dn = moving_average(df,f'DOWN_{source_col}', length, mode_ma)  # Negative changes\n",
    "\n",
    "    # Calculate RSI\n",
    "    up.fillna(0, inplace=True)\n",
    "    dn.fillna(0, inplace=True)\n",
    "\n",
    "    rsi = 100 - (100 / (1 + up / dn))\n",
    "\n",
    "    # Handle cases where dn is zero\n",
    "    rsi[dn == 0] = 100\n",
    "    rsi[up == 0] = 0\n",
    "\n",
    "    return rsi"
   ]
  },
  {
   "cell_type": "code",
   "execution_count": 14,
   "metadata": {
    "executionInfo": {
     "elapsed": 9,
     "status": "ok",
     "timestamp": 1732819375774,
     "user": {
      "displayName": "Akshat Trehan",
      "userId": "16902558747772559534"
     },
     "user_tz": -330
    },
    "id": "p--FhmTvl_tv"
   },
   "outputs": [],
   "source": [
    "def calculation(df,mode_ma):\n",
    "\n",
    "    length=7\n",
    "    maLength=4\n",
    "    mode_ma1='WMA'\n",
    "    df['tsi']=rsi_function(df,'HA_Close',length,mode_ma)\n",
    "    df['tsiMA']=moving_average(df,'tsi',maLength,mode_ma1)"
   ]
  },
  {
   "cell_type": "code",
   "execution_count": 15,
   "metadata": {},
   "outputs": [],
   "source": [
    "#calculate RSI\n",
    "def rsi(df, lookback=14):\n",
    "    close = df['close']\n",
    "    ret = close.diff().dropna()\n",
    "    up = []\n",
    "    down = []\n",
    "    for i in range(len(ret)):\n",
    "        if ret.iloc[i] < 0:\n",
    "            up.append(0)\n",
    "            down.append(ret.iloc[i])\n",
    "        else:\n",
    "            up.append(ret.iloc[i])\n",
    "            down.append(0)\n",
    "    up_series = pd.Series(up, index=ret.index)\n",
    "    down_series = pd.Series(down, index=ret.index).abs()\n",
    "    up_ewm = up_series.ewm(com=lookback - 1, adjust=False).mean()\n",
    "    down_ewm = down_series.ewm(com=lookback - 1, adjust=False).mean()\n",
    "    rs = up_ewm / down_ewm\n",
    "    rsi = 100 - (100 / (1 + rs))\n",
    "    df[\"RSI\"] = rsi.reindex(df.index)"
   ]
  },
  {
   "cell_type": "markdown",
   "metadata": {
    "id": "e4UKA2AIEZm5"
   },
   "source": [
    "# Preprocessing on the df"
   ]
  },
  {
   "cell_type": "markdown",
   "metadata": {
    "id": "kYePacJJEZm5"
   },
   "source": [
    "Calculate all the indicators you need and select the interval you want to bactest on using this function"
   ]
  },
  {
   "cell_type": "code",
   "execution_count": 16,
   "metadata": {
    "executionInfo": {
     "elapsed": 412,
     "status": "ok",
     "timestamp": 1732819861324,
     "user": {
      "displayName": "Akshat Trehan",
      "userId": "16902558747772559534"
     },
     "user_tz": -330
    },
    "id": "5Dr-SzDgEZm5"
   },
   "outputs": [],
   "source": [
    "def preprocess(df, start, end):\n",
    "    HA(df)\n",
    "    ATR(df)\n",
    "    rsi(df, 14)\n",
    "    ADX(df, 14)\n",
    "    calculate_parabolic_sar(df)\n",
    "    df=benford(df)\n",
    "    df=calculate_dynamic_adxr(df, 16)\n",
    "\n",
    "\n",
    "    # Filter the dfframe to values between start and end\n",
    "    df = df[(df['datetime'] >= start) & (df['datetime'] <= end)]\n",
    "    df.reset_index(drop=True, inplace=True)\n",
    "\n",
    "    # Ensure 'datetime' column is in datetime format\n",
    "    df['datetime'] = pd.to_datetime(df['datetime'])\n",
    "\n",
    "    # Initialize Position and signals\n",
    "    df['Position'] = 0\n",
    "    df['signals'] = 0\n",
    "\n",
    "\n",
    "\n",
    "\n",
    "    return df\n"
   ]
  },
  {
   "cell_type": "markdown",
   "metadata": {
    "id": "NYNTh1w_EZm5",
    "jp-MarkdownHeadingCollapsed": true
   },
   "source": [
    "# Postprocessing the df"
   ]
  },
  {
   "cell_type": "markdown",
   "metadata": {
    "id": "lp7nUQgIEZm5"
   },
   "source": [
    "Assumptions: You feed a dfframe in the function which has a column named \"Position\" which is 1 if you're in a long trade and \"-1\" if you're in a short trade. The function handles the signal generation"
   ]
  },
  {
   "cell_type": "code",
   "execution_count": 17,
   "metadata": {
    "executionInfo": {
     "elapsed": 8,
     "status": "ok",
     "timestamp": 1732819375774,
     "user": {
      "displayName": "Akshat Trehan",
      "userId": "16902558747772559534"
     },
     "user_tz": -330
    },
    "id": "JBaiI62rEZm6"
   },
   "outputs": [],
   "source": [
    "def post_process(df):\n",
    "    # Initialize variables\n",
    "    compound_returns = [1000]  # Starting capital\n",
    "    entry_price = None\n",
    "    entry_amount = None\n",
    "    transaction_fee = 0.0015  # 0.15% transaction fee\n",
    "\n",
    "    # Iterate through the DataFrame\n",
    "    for i in range(1, len(df)):\n",
    "        # If the position remains the same\n",
    "        if df.loc[i, \"Position\"] == df.loc[i - 1, \"Position\"]:\n",
    "            if df.loc[i, \"Position\"] == 1:  # Long position\n",
    "                compound_returns.append((df.loc[i, \"close\"] / entry_price) * entry_amount)\n",
    "            elif df.loc[i, \"Position\"] == -1:  # Short position\n",
    "                compound_returns.append(((entry_price - df.loc[i, \"close\"] + entry_price) / entry_price) * entry_amount)\n",
    "            else:  # No position (hold)\n",
    "                compound_returns.append(compound_returns[-1])\n",
    "        else:  # If the position changes\n",
    "            if df.loc[i, \"Position\"] == 1:  # Entering a long position\n",
    "                if df.loc[i - 1, \"Position\"] == 0:  # From no position to long\n",
    "                    entry_price = df.loc[i - 1, \"close\"]\n",
    "                    entry_amount = compound_returns[-1]\n",
    "                    compound_returns.append((df.loc[i, \"close\"] / entry_price) * entry_amount)\n",
    "                else:  # From short to long\n",
    "                    entry_price = df.loc[i - 1, \"close\"]\n",
    "                    entry_amount = compound_returns[-1] * (1 - transaction_fee)\n",
    "                    compound_returns.append((df.loc[i, \"close\"] / entry_price) * entry_amount)\n",
    "            elif df.loc[i, \"Position\"] == -1:  # Entering a short position\n",
    "                if df.loc[i - 1, \"Position\"] == 0:  # From no position to short\n",
    "                    entry_price = df.loc[i - 1, \"close\"]\n",
    "                    entry_amount = compound_returns[-1]\n",
    "                    compound_returns.append(((entry_price - df.loc[i, \"close\"] + entry_price) / entry_price) * entry_amount)\n",
    "                else:  # From long to short\n",
    "                    entry_price = df.loc[i - 1, \"close\"]\n",
    "                    entry_amount = compound_returns[-1] * (1 - transaction_fee)\n",
    "                    compound_returns.append(((entry_price - df.loc[i, \"close\"] + entry_price) / entry_price) * entry_amount)\n",
    "            else:  # Exiting to no position\n",
    "                compound_returns.append(compound_returns[-1] * (1 - transaction_fee))\n",
    "\n",
    "    # Add signals and trade type columns\n",
    "    df[\"signals\"] = 0\n",
    "    df[\"trade_type\"] = \"hold\"\n",
    "\n",
    "    for i in range(1, len(df)):\n",
    "        if df.loc[i, \"Position\"] != df.loc[i - 1, \"Position\"]:\n",
    "            if df.loc[i, 'Position'] == 1:\n",
    "                if df.loc[i-1, 'Position'] == 0:\n",
    "                    df.loc[i-1, 'signals'] = 1\n",
    "                    df.loc[i-1, 'trade_type'] = 'long'\n",
    "                else:\n",
    "                    df.loc[i-1, 'signals'] = 2\n",
    "                    df.loc[i-1, 'trade_type'] = 'long_reversal'\n",
    "            elif df.loc[i, 'Position'] == -1:\n",
    "                if df.loc[i-1, 'Position'] == 0:\n",
    "                    df.loc[i-1, 'signals'] = -1\n",
    "                    df.loc[i-1, 'trade_type'] = 'short'\n",
    "                else:\n",
    "                    df.loc[i-1, 'signals'] = -2\n",
    "                    df.loc[i-1, 'trade_type'] = 'short_reversal'\n",
    "            else:\n",
    "                if df.loc[i-1, 'Position'] == 1:\n",
    "                    df.loc[i-1, 'signals'] = -1\n",
    "                    df.loc[i-1, 'trade_type'] = 'square_off'\n",
    "                else:\n",
    "                    df.loc[i-1, 'signals'] = 1\n",
    "                    df.loc[i-1, 'trade_type'] = 'square_off'\n",
    "                    \n",
    "                              \n",
    "\n",
    "    return df, compound_returns"
   ]
  },
  {
   "cell_type": "markdown",
   "metadata": {
    "id": "kiJN2PCPEZm6",
    "jp-MarkdownHeadingCollapsed": true
   },
   "source": [
    "# Plotting"
   ]
  },
  {
   "cell_type": "code",
   "execution_count": 18,
   "metadata": {
    "executionInfo": {
     "elapsed": 7,
     "status": "ok",
     "timestamp": 1732819375774,
     "user": {
      "displayName": "Akshat Trehan",
      "userId": "16902558747772559534"
     },
     "user_tz": -330
    },
    "id": "rdu_0l4NEZm6"
   },
   "outputs": [],
   "source": [
    "def plot_results(compound_returns, buy_and_hold_returns, dates, drawdowns):\n",
    "    plt.figure(figsize=(12, 10))\n",
    "    plt.subplot(3, 1, 1)\n",
    "    plt.plot(dates,compound_returns, label=\"Strategy Returns: compound\")\n",
    "    plt.plot(dates,buy_and_hold_returns, label=\"Buy and Hold Returns\")\n",
    "    plt.legend()\n",
    "    plt.title('Compounded returns of SPSAR+TAI strategy on ETH')\n",
    "\n",
    "    # Filter for the first dates of each month\n",
    "    first_dates = dates[dates.dt.is_month_start].iloc[::6]\n",
    "\n",
    "    # Plot the filtered dates\n",
    "    plt.xticks(ticks=first_dates, labels=[date.strftime('%Y-%m-%d') for date in first_dates])\n",
    "\n",
    "    plt.xlabel('Date')\n",
    "    plt.show()\n",
    "\n",
    "\n",
    "    plt.figure(figsize=(12, 10))\n",
    "    plt.subplot(3, 1, 1)\n",
    "    for i in range(len(drawdowns)):\n",
    "        drawdowns[i] *= 16.6/20\n",
    "    plt.plot(dates,drawdowns, label=\"Drawdowns\")\n",
    "    plt.legend()\n",
    "    plt.title('Drawdowns of SPSAR+TAI strategy on ETH')\n",
    "    # Filter for the first dates of each month\n",
    "    first_dates = dates[dates.dt.is_month_start].iloc[::6]\n",
    "\n",
    "    # Plot the filtered dates\n",
    "    plt.xticks(ticks=first_dates, labels=[date.strftime('%Y-%m-%d') for date in first_dates])\n",
    "    plt.xlabel('Date')\n",
    "    plt.ylabel('Drawdown (%)')\n"
   ]
  },
  {
   "cell_type": "markdown",
   "metadata": {
    "id": "VWBytWcjEZm6"
   },
   "source": [
    "# Main Strategy"
   ]
  },
  {
   "cell_type": "code",
   "execution_count": 19,
   "metadata": {
    "executionInfo": {
     "elapsed": 398,
     "status": "ok",
     "timestamp": 1732821003491,
     "user": {
      "displayName": "Akshat Trehan",
      "userId": "16902558747772559534"
     },
     "user_tz": -330
    },
    "id": "nRBQZV9ul_tv"
   },
   "outputs": [],
   "source": [
    "def Strategy(df, atr_multiplier=3, stoploss=0):\n",
    "    curr=0\n",
    "    mode_ma='KAMA'\n",
    "    calculation(df,mode_ma)\n",
    "    df['ATR_D']=np.abs(df['ATR'].diff())\n",
    "    df['close_D']=np.abs(df['close'].diff())\n",
    "    df['ATR/close'] = df['ATR_D'].rolling(15).mean()/df['close_D'].rolling(15).mean()\n",
    "    df['ATR/close']=df['ATR/close'].rolling(30).mean()\n",
    "    df['ATRdiff']=np.abs(df['ATR']-df['ATR'].shift(1))\n",
    "    for i in range(15, len(df) - 1):\n",
    "        curr_atr = df.loc[i, 'ATR']\n",
    "        tsi_slope = df.loc[i, 'ADX_14'] - df.loc[i - 2, 'ADX_14']\n",
    "\n",
    "\n",
    "        # Long condition\n",
    "        if( (df['tsi'][i] > df['tsiMA'][i]*1.05 or 1.05*df.loc[i, \"PSAR\"] < df.loc[i, \"HA_Close\"]) and df['ADXR_dynamic'][i]>20 and df['ADX_14'][i]<25  and df['deviation_flag'][i]==0 and  df['Position'][i] != 1 ):# and (tsi_slope>0 and tsi_slope>0.1) \n",
    "            # Enter a long position and set the signal to 1\n",
    "            df.loc[i + 1, 'Position'] = 1\n",
    "            curr=df['tsi'][i]\n",
    "            stoploss = df.loc[i, 'close'] - curr_atr * (atr_multiplier + 1)\n",
    "        # Short condition\n",
    "        elif df['low'][i-1] > df['EMA10'][i-1] and df['close'][i] < df['low'][i-1] and df['ADXR_dynamic'][i]>20 and df['ADX_14'][i]<25  and df['deviation_flag'][i]==0 and  df['Position'][i]!=-1 :# and tsi_slope<0:\n",
    "            df.loc[i + 1, 'Position'] = -1\n",
    "            stoploss = df.loc[i, 'close'] + curr_atr * (atr_multiplier - 1)\n",
    "\n",
    "        else:\n",
    "            # If the current position is long\n",
    "            if df.loc[i, 'Position'] == 1:\n",
    "                df.loc[i + 1, 'Position'] = 1\n",
    "                # Exit on stop loss or take profit\n",
    "                if df.loc[i, 'close'] <= stoploss or df['tsi'][i]<0.95*curr or df[\"ADX_14\"][i] > 65 or (df['HA_Close'][i]<df['HA_Open'][i] and df['HA_Close'][i-1]<df['HA_Open'][i-1] and df['ATRdiff'][i]/df['ATR'][i]>0.15):\n",
    "                    df.loc[i + 1, 'Position'] = 0\n",
    "                else:\n",
    "                    stoploss = max(stoploss, df.loc[i, 'close'] - curr_atr * (atr_multiplier + 1))\n",
    "\n",
    "            # If the current position is short\n",
    "            elif df.loc[i, 'Position'] == -1:\n",
    "                df.loc[i + 1, 'Position'] = -1\n",
    "                # Exit on stop loss or take profit\n",
    "                if df.loc[i, 'close'] >= stoploss or df[\"ADX_14\"][i] > 65 or (df['HA_Close'][i]>df['HA_Open'][i] and df['HA_Close'][i-1]>df['HA_Open'][i-1] and df['ATRdiff'][i]/df['ATR'][i]>0.15):\n",
    "                    df.loc[i + 1, 'Position'] = 0\n",
    "                else:\n",
    "                    stoploss = min(stoploss, df.loc[i, 'close'] + curr_atr * (atr_multiplier - 1))\n",
    "\n",
    "            # If the current position is neutral\n",
    "            else:\n",
    "                df.loc[i + 1, 'Position'] = 0\n",
    "    return df"
   ]
  },
  {
   "cell_type": "markdown",
   "metadata": {
    "id": "DzKxDvyLEZm6"
   },
   "source": [
    "# Main Run"
   ]
  },
  {
   "cell_type": "code",
   "execution_count": 20,
   "metadata": {
    "colab": {
     "base_uri": "https://localhost:8080/",
     "height": 1000
    },
    "executionInfo": {
     "elapsed": 6118,
     "status": "ok",
     "timestamp": 1732821011391,
     "user": {
      "displayName": "Akshat Trehan",
      "userId": "16902558747772559534"
     },
     "user_tz": -330
    },
    "id": "kmzPuWEuEZm6",
    "outputId": "34041a8a-5a34-4369-b0f6-549200fbf45f"
   },
   "outputs": [],
   "source": [
    "# df = pd.read_csv(\"binance_data/BTC_USDT_1d_binance_2024.csv\")\n",
    "# df = preprocess(df, '2024-01-01', '2024-12-31')\n",
    "\n",
    "main_df = pd.read_csv(\"BTC data/BTC_2019_2023_1d.csv\")\n",
    "# df = pd.read_csv(\"sol_data.csv\")\n",
    "df = preprocess(main_df, '2018-01-01', '2023-12-31')\n",
    "\n",
    "EMA(df,10)\n",
    "df = Strategy(df)\n",
    "# print(df['tsi'])\n",
    "df, compound_returns = post_process(df)\n",
    "drawdowns =[0]\n",
    "max_val = 1000\n",
    "\n",
    "#plot_results(compound_returns, df['close']*1000/df.loc[0, 'close'], df['datetime'], drawdowns)"
   ]
  },
  {
   "cell_type": "markdown",
   "metadata": {
    "id": "iCXDZ5PBGIWZ"
   },
   "source": [
    "# Testing using SDK"
   ]
  },
  {
   "cell_type": "code",
   "execution_count": 21,
   "metadata": {
    "executionInfo": {
     "elapsed": 447,
     "status": "ok",
     "timestamp": 1732821021918,
     "user": {
      "displayName": "Akshat Trehan",
      "userId": "16902558747772559534"
     },
     "user_tz": -330
    },
    "id": "XX1DsIdOEZm7"
   },
   "outputs": [],
   "source": [
    "from untrade.client import Client\n",
    "\n",
    "def perform_backtest_quarterly(df, csv_file_path=\"output.csv\", leverage=1):\n",
    "    # Create an instance of the untrade client\n",
    "    client = Client()\n",
    "\n",
    "    df.to_csv(csv_file_path, index=False)\n",
    "\n",
    "\n",
    "    # Perform backtest using the provided CSV file path\n",
    "    result = client.backtest(\n",
    "        jupyter_id=\"maverick\",  # the one you use to login to jupyter.untrade.io\n",
    "        file_path=csv_file_path,\n",
    "        leverage=leverage,  # Adjust leverage as needed\n",
    "        result_type = \"Q\"\n",
    "    )\n",
    "\n",
    "    for value in result:\n",
    "        print(value)\n",
    "\n",
    "def perform_backtest_overall(df, csv_file_path=\"output.csv\", leverage=1):\n",
    "    # Create an instance of the untrade client\n",
    "    client = Client()\n",
    "\n",
    "    df.to_csv(csv_file_path, index=False)\n",
    "\n",
    "    # Perform backtest using the provided CSV file path\n",
    "    result = client.backtest(\n",
    "        jupyter_id=\"maverick\",  # the one you use to login to jupyter.untrade.io\n",
    "        file_path=csv_file_path,\n",
    "        leverage=leverage,  # Adjust leverage as needed\n",
    "    )\n",
    "\n",
    "    # Get the last value of backtest result\n",
    "    value = \"\"\n",
    "    for i in result:\n",
    "        value += i\n",
    "\n",
    "    print(value)\n",
    "\n"
   ]
  },
  {
   "cell_type": "code",
   "execution_count": 22,
   "metadata": {
    "colab": {
     "base_uri": "https://localhost:8080/"
    },
    "executionInfo": {
     "elapsed": 2145,
     "status": "ok",
     "timestamp": 1732821026783,
     "user": {
      "displayName": "Akshat Trehan",
      "userId": "16902558747772559534"
     },
     "user_tz": -330
    },
    "id": "-kUcv5s_EZm7",
    "outputId": "f461932b-cad0-4038-a2a9-371fd2c721b7"
   },
   "outputs": [
    {
     "name": "stdout",
     "output_type": "stream",
     "text": [
      "data: {\n",
      "  \"jupyter_id\": \"maverick\",\n",
      "  \"result_type\": \"Main\",\n",
      "  \"message\": \"Backtest completed\",\n",
      "  \"result\": {\n",
      "    \"static_statistics\": {\n",
      "      \"From\": \"2019-09-08 00:00:00\",\n",
      "      \"Total Trades\": 63,\n",
      "      \"Leverage Applied\": 1.0,\n",
      "      \"Winning Trades\": 37,\n",
      "      \"Losing Trades\": 26,\n",
      "      \"No. of Long Trades\": 44,\n",
      "      \"No. of Short Trades\": 19,\n",
      "      \"Benchmark Return(%)\": 307.193097,\n",
      "      \"Benchmark Return(on $1000)\": 3071.930968,\n",
      "      \"Win Rate\": 58.730159,\n",
      "      \"Winning Streak\": 10,\n",
      "      \"Losing Streak\": 9,\n",
      "      \"Gross Profit\": 5802.037272,\n",
      "      \"Net Profit\": 5707.537272,\n",
      "      \"Average Profit\": 90.59583,\n",
      "      \"Maximum Drawdown(%)\": 11.347488,\n",
      "      \"Average Drawdown(%)\": 1.371972,\n",
      "      \"Largest Win\": 2300.012739,\n",
      "      \"Average Win\": 175.718905,\n",
      "      \"Largest Loss\": -131.626581,\n",
      "      \"Average Loss\": -30.540854,\n",
      "      \"Maximum Holding Time\": \"109 days 0:0:0\",\n",
      "      \"Average Holding Time\": \"13 days 18:40:0\",\n",
      "      \"Maximum Adverse Excursion\": 15.259304,\n",
      "      \"Average Adverse Excursion\": 3.370862,\n",
      "      \"Sharpe Ratio\": 5.692806,\n",
      "      \"Sortino Ratio\": 56.657963,\n",
      "      \"To\": \"2023-12-31 00:00:00\"\n",
      "    },\n",
      "    \"compound_statistics\": {\n",
      "      \"flag\": \"Trades Executed: 63\",\n",
      "      \"Initial Balance\": 1000.0,\n",
      "      \"Leverage Applied\": 1.0,\n",
      "      \"Number of Trades\": 63,\n",
      "      \"Profit Percentage\": 5850.011648,\n",
      "      \"Maximum Drawdown\": 22.88068,\n",
      "      \"Average Drawdown\": 4.497576,\n",
      "      \"Time to Recovery(TTR)\": \"181.000000 days\",\n",
      "      \"Average TTR\": \"92.857143 days\",\n",
      "      \"Maximum PNL\": 15463.05652,\n",
      "      \"Minimum PNL\": -2498.817378,\n",
      "      \"Max Portfolio Balance\": 59500.116479,\n",
      "      \"Minimumm Portfolio Balance\": 990.02722,\n",
      "      \"Final Balance\": 59500.116479,\n",
      "      \"Total Fee\": 1219.97559\n",
      "    }\n",
      "  }\n",
      "}\n",
      "\n",
      "\n"
     ]
    }
   ],
   "source": [
    "perform_backtest_overall(df,leverage=1)"
   ]
  },
  {
   "cell_type": "code",
   "execution_count": 23,
   "metadata": {},
   "outputs": [
    {
     "name": "stdout",
     "output_type": "stream",
     "text": [
      "data: {\n",
      "  \"jupyter_id\": \"maverick\",\n",
      "  \"result_type\": \"Main\",\n",
      "  \"message\": \"Backtest completed\",\n",
      "  \"result\": {\n",
      "    \"static_statistics\": {\n",
      "      \"From\": \"2019-09-08 00:00:00\",\n",
      "      \"Total Trades\": 63,\n",
      "      \"Leverage Applied\": 2.0,\n",
      "      \"Winning Trades\": 37,\n",
      "      \"Losing Trades\": 26,\n",
      "      \"No. of Long Trades\": 44,\n",
      "      \"No. of Short Trades\": 19,\n",
      "      \"Benchmark Return(%)\": 307.193097,\n",
      "      \"Benchmark Return(on $1000)\": 3071.930968,\n",
      "      \"Win Rate\": 58.730159,\n",
      "      \"Winning Streak\": 10,\n",
      "      \"Losing Streak\": 9,\n",
      "      \"Gross Profit\": 5802.037272,\n",
      "      \"Net Profit\": 5707.537272,\n",
      "      \"Average Profit\": 90.59583,\n",
      "      \"Maximum Drawdown(%)\": 11.347488,\n",
      "      \"Average Drawdown(%)\": 1.371972,\n",
      "      \"Largest Win\": 2300.012739,\n",
      "      \"Average Win\": 175.718905,\n",
      "      \"Largest Loss\": -131.626581,\n",
      "      \"Average Loss\": -30.540854,\n",
      "      \"Maximum Holding Time\": \"109 days 0:0:0\",\n",
      "      \"Average Holding Time\": \"13 days 18:40:0\",\n",
      "      \"Maximum Adverse Excursion\": 15.259304,\n",
      "      \"Average Adverse Excursion\": 3.370862,\n",
      "      \"Sharpe Ratio\": 5.692806,\n",
      "      \"Sortino Ratio\": 56.657963,\n",
      "      \"To\": \"2023-12-31 00:00:00\"\n",
      "    },\n",
      "    \"compound_statistics\": {\n",
      "      \"flag\": \"Trades Executed: 63\",\n",
      "      \"Initial Balance\": 1000.0,\n",
      "      \"Leverage Applied\": 2.0,\n",
      "      \"Number of Trades\": 63,\n",
      "      \"Profit Percentage\": 5850.011648,\n",
      "      \"Maximum Drawdown\": 22.88068,\n",
      "      \"Average Drawdown\": 4.497576,\n",
      "      \"Time to Recovery(TTR)\": \"181.000000 days\",\n",
      "      \"Average TTR\": \"92.857143 days\",\n",
      "      \"Maximum PNL\": 15463.05652,\n",
      "      \"Minimum PNL\": -2498.817378,\n",
      "      \"Max Portfolio Balance\": 59500.116479,\n",
      "      \"Minimumm Portfolio Balance\": 990.02722,\n",
      "      \"Final Balance\": 59500.116479,\n",
      "      \"Total Fee\": 1219.97559\n",
      "    }\n",
      "  }\n",
      "}\n",
      "\n",
      "\n"
     ]
    }
   ],
   "source": [
    "perform_backtest_overall(df,leverage=2)"
   ]
  },
  {
   "cell_type": "code",
   "execution_count": 25,
   "metadata": {},
   "outputs": [
    {
     "data": {
      "image/png": "[encoded data removed]",
      "text/plain": [
       "<Figure size 1400x700 with 1 Axes>"
      ]
     },
     "metadata": {},
     "output_type": "display_data"
    }
   ],
   "source": [
    "plt.figure(figsize=(14, 7))\n",
    "plt.plot(df['datetime'], df['close'], label='ETH Close Price', color='#56aadb', zorder=1)\n",
    "\n",
    "\n",
    "# Filter for the first dates of each month\n",
    "first_dates = df[df['datetime'].dt.is_month_start].iloc[::6]\n",
    "\n",
    "\n",
    "# Plot the filtered dates\n",
    "plt.xticks(ticks=first_dates['datetime'], labels=[date.strftime('%Y-%m-%d') for date in first_dates['datetime']])\n",
    "\n",
    "long_entry_points = []\n",
    "long_exit_points = []\n",
    "short_entry_points = []\n",
    "short_exit_points = []\n",
    "\n",
    "in_trade = False\n",
    "for i in range(len(df)):\n",
    "    if df.loc[i, 'signals'] == 1:\n",
    "        if in_trade:\n",
    "            short_exit_points.append(df.iloc[i])\n",
    "        else:\n",
    "            long_entry_points.append(df.iloc[i])\n",
    "        in_trade = not in_trade\n",
    "    elif df.loc[i, 'signals'] == -1:\n",
    "        if in_trade:\n",
    "            long_exit_points.append(df.iloc[i])\n",
    "        else:\n",
    "            short_entry_points.append(df.iloc[i])\n",
    "        in_trade = not in_trade\n",
    "    elif df.loc[i, 'signals'] == 2:\n",
    "        long_entry_points.append(df.iloc[i])\n",
    "        short_exit_points.append(df.iloc[i])\n",
    "        in_trade = True\n",
    "    elif df.loc[i, 'signals'] == -2:\n",
    "        short_entry_points.append(df.iloc[i])\n",
    "        long_exit_points.append(df.iloc[i])\n",
    "        in_trade = True\n",
    "\n",
    "\n",
    "# Convert lists to DataFrames\n",
    "long_entry_points_df = pd.DataFrame(long_entry_points)\n",
    "long_exit_points_df = pd.DataFrame(long_exit_points)\n",
    "short_entry_points_df = pd.DataFrame(short_entry_points)\n",
    "short_exit_points_df = pd.DataFrame(short_exit_points)\n",
    "\n",
    "# Plot long entry points\n",
    "plt.scatter(long_entry_points_df['datetime'], long_entry_points_df['close'], marker='^', color='green', label='Long Entry Point', s=100, zorder=2)\n",
    "\n",
    "# Plot long exit points\n",
    "plt.scatter(long_exit_points_df['datetime'], long_exit_points_df['close'], marker='v', color='red', label='Long Exit Point', s=100, zorder=2)\n",
    "\n",
    "# Plot short entry points\n",
    "plt.scatter(short_entry_points_df['datetime'], short_entry_points_df['close'], marker='^', color='red', label='Short Entry Point', s=100, zorder=2)\n",
    "\n",
    "# Plot short exit points\n",
    "plt.scatter(short_exit_points_df['datetime'], short_exit_points_df['close'], marker='v', color='green', label='Short Exit Point', s=100, zorder=2)\n",
    "\n",
    "plt.title('Entry and Exit Points for TSI+KAMA strategy on BTC')\n",
    "plt.xlabel('Date')\n",
    "plt.ylabel('Close Price')\n",
    "plt.legend()\n",
    "plt.show()"
   ]
  }
 ],
 "metadata": {
  "colab": {
   "collapsed_sections": [
    "AReddUWXEZm2",
    "T_Va6hLOEZm3",
    "Fmrg7ffjEZm3",
    "yPVwZWBBEZm3",
    "gZAZbMNJEZm4",
    "vw5knkZOEZm4",
    "ZJV7gRwLEZm4",
    "zyBEXTKJEZm5",
    "PxteGl77EZm5"
   ],
   "provenance": []
  },
  "kernelspec": {
   "display_name": "Python 3",
   "language": "python",
   "name": "python3"
  },
  "language_info": {
   "codemirror_mode": {
    "name": "ipython",
    "version": 3
   },
   "file_extension": ".py",
   "mimetype": "text/x-python",
   "name": "python",
   "nbconvert_exporter": "python",
   "pygments_lexer": "ipython3",
   "version": "3.12.4"
  }
 },
 "nbformat": 4,
 "nbformat_minor": 4
}
